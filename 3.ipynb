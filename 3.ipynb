{
 "cells": [
  {
   "cell_type": "code",
   "execution_count": 13,
   "id": "5848a3b3-69aa-47c8-9f8c-25a5ab7e0d72",
   "metadata": {},
   "outputs": [
    {
     "name": "stdout",
     "output_type": "stream",
     "text": [
      "Random Forest Best F1 Score: 0.3216 with parameters: {'max_depth': 20, 'min_samples_split': 2, 'n_estimators': 500}\n",
      "Random Forest model, scaler, and label encoder saved to best_rf_model_with_scaler_encoder.pkl\n"
     ]
    }
   ],
   "source": [
    "import pandas as pd\n",
    "import numpy as np\n",
    "from sklearn.model_selection import train_test_split, GridSearchCV\n",
    "from sklearn.preprocessing import StandardScaler, LabelEncoder\n",
    "from sklearn.ensemble import RandomForestClassifier\n",
    "from sklearn.metrics import f1_score\n",
    "from imblearn.over_sampling import SMOTE\n",
    "import pickle\n",
    "\n",
    "# Load dataset\n",
    "file_path = \"C:\\\\Users\\\\jagin\\\\general_disease_diagnosis.csv\"\n",
    "df = pd.read_csv(file_path)\n",
    "\n",
    "# Data preprocessing\n",
    "numeric_columns = df.select_dtypes(include=['float64', 'int64']).columns\n",
    "target_column = next((col for col in df.columns if 'condition' in col.lower() or \n",
    "                      'disease' in col.lower() or 'diagnosis' in col.lower()), None)\n",
    "\n",
    "# Fill missing values\n",
    "df.fillna(df.mean(numeric_only=True), inplace=True)\n",
    "df.fillna(df.mode().iloc[0], inplace=True)\n",
    "\n",
    "# Prepare features and target\n",
    "features = [col for col in numeric_columns if col != target_column]\n",
    "X = df[features]\n",
    "y = df[target_column]\n",
    "\n",
    "# Label encode the target variable\n",
    "label_encoder = LabelEncoder()\n",
    "y_encoded = label_encoder.fit_transform(y)\n",
    "\n",
    "# Address class imbalance\n",
    "smote = SMOTE(random_state=42)\n",
    "X_resampled, y_resampled = smote.fit_resample(X, y_encoded)\n",
    "\n",
    "# Split data into training and test sets\n",
    "X_train, X_test, y_train, y_test = train_test_split(X_resampled, y_resampled, test_size=0.2, random_state=42)\n",
    "\n",
    "# Scale features\n",
    "scaler = StandardScaler()\n",
    "X_train_scaled = scaler.fit_transform(X_train)\n",
    "X_test_scaled = scaler.transform(X_test)\n",
    "\n",
    "# Define Random Forest hyperparameters for tuning\n",
    "rf_params = {\n",
    "    'n_estimators': [100, 300, 500],\n",
    "    'max_depth': [10, 20, 30],\n",
    "    'min_samples_split': [2, 3, 5]\n",
    "}\n",
    "\n",
    "# Train the Random Forest model using GridSearchCV\n",
    "rf_model = RandomForestClassifier(class_weight='balanced', random_state=42)\n",
    "grid_search_rf = GridSearchCV(rf_model, rf_params, cv=5, scoring='f1_weighted', n_jobs=-1)\n",
    "grid_search_rf.fit(X_train_scaled, y_train)\n",
    "\n",
    "# Get the best Random Forest model and evaluate it\n",
    "best_rf_model = grid_search_rf.best_estimator_\n",
    "y_pred = best_rf_model.predict(X_test_scaled)\n",
    "f1 = f1_score(y_test, y_pred, average=\"weighted\")\n",
    "print(f\"Random Forest Best F1 Score: {f1:.4f} with parameters: {grid_search_rf.best_params_}\")\n",
    "\n",
    "# Save the trained Random Forest model, scaler, and label encoder to a pickle file\n",
    "model_filename = \"best_rf_model_with_scaler_encoder.pkl\"\n",
    "with open(model_filename, 'wb') as file:\n",
    "    pickle.dump({\n",
    "        'model': best_rf_model,\n",
    "        'scaler': scaler,\n",
    "        'label_encoder': label_encoder\n",
    "    }, file)\n",
    "\n",
    "print(f\"Random Forest model, scaler, and label encoder saved to {model_filename}\")\n"
   ]
  },
  {
   "cell_type": "code",
   "execution_count": 23,
   "id": "865f7f0d-248e-425b-8def-3876f7ab9be0",
   "metadata": {},
   "outputs": [
    {
     "name": "stdout",
     "output_type": "stream",
     "text": [
      "Predictions saved to 'data_with_predicted_disease.csv'\n"
     ]
    }
   ],
   "source": [
    "import pandas as pd\n",
    "import pickle\n",
    "\n",
    "# Load the pre-trained RandomForest model, scaler, and label encoder\n",
    "with open(\"C:\\\\Users\\\\jagin\\\\best_rf_model_with_scaler_encoder.pkl\", 'rb') as file:\n",
    "    saved_data = pickle.load(file)\n",
    "\n",
    "model = saved_data['model']\n",
    "scaler = saved_data['scaler']\n",
    "label_encoder = saved_data['label_encoder']\n",
    "\n",
    "# Load the CSV file with missing 'Disease' column\n",
    "data = pd.read_csv(\"C:\\\\Users\\\\jagin\\\\disease.csv\")  # Replace with your actual CSV file path\n",
    "\n",
    "# Check if the required features are present in the data\n",
    "required_features = ['Age', 'Weight_kg', 'Height_cm', 'Blood_Pressure_mmHg']  # Replace with your actual feature names\n",
    "for feature in required_features:\n",
    "    if feature not in data.columns:\n",
    "        raise ValueError(f\"Missing required feature: {feature}\")\n",
    "\n",
    "# Handle any potential missing values in the dataset\n",
    "data[required_features] = data[required_features].fillna(data[required_features].mean())\n",
    "\n",
    "# Scale the features using the loaded scaler\n",
    "scaled_features = scaler.transform(data[required_features])\n",
    "\n",
    "# Make predictions using the loaded model\n",
    "predicted_labels = model.predict(scaled_features)\n",
    "\n",
    "# Convert numeric predictions back to original labels using the label encoder\n",
    "data['Disease'] = label_encoder.inverse_transform(predicted_labels)\n",
    "\n",
    "# Save the result to a new CSV file\n",
    "output_path = 'data_with_predicted_disease.csv'\n",
    "data.to_csv(output_path, index=False)\n",
    "print(f\"Predictions saved to '{output_path}'\")\n"
   ]
  },
  {
   "cell_type": "code",
   "execution_count": null,
   "id": "1226f8c3-7441-44d0-ae93-676319926fb7",
   "metadata": {},
   "outputs": [],
   "source": []
  }
 ],
 "metadata": {
  "kernelspec": {
   "display_name": "Python 3 (ipykernel)",
   "language": "python",
   "name": "python3"
  },
  "language_info": {
   "codemirror_mode": {
    "name": "ipython",
    "version": 3
   },
   "file_extension": ".py",
   "mimetype": "text/x-python",
   "name": "python",
   "nbconvert_exporter": "python",
   "pygments_lexer": "ipython3",
   "version": "3.12.4"
  }
 },
 "nbformat": 4,
 "nbformat_minor": 5
}
